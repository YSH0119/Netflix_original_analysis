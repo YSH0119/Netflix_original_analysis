{
 "cells": [
  {
   "cell_type": "code",
   "execution_count": 1,
   "id": "09475e7a-5ec1-4f34-b71e-80f8698786d9",
   "metadata": {},
   "outputs": [],
   "source": [
    "import pandas as pd\n",
    "\n",
    "df = pd.read_csv(\"./data/netflix_originals.csv\", encoding=\"utf-8\")"
   ]
  },
  {
   "cell_type": "markdown",
   "id": "36c91149-0593-4e48-8e82-aba2c3a37d73",
   "metadata": {},
   "source": [
    "## **데이터 전처리**"
   ]
  },
  {
   "cell_type": "markdown",
   "id": "be7b7738-e976-486c-a180-25ef6418cde0",
   "metadata": {},
   "source": [
    "### **Genre컬럼에 \"/\"로 중첩되어 있는 장르 값을 분리**"
   ]
  },
  {
   "cell_type": "code",
   "execution_count": 2,
   "id": "88cebb17-ae73-4987-a1fe-bc5a2f4d51b3",
   "metadata": {},
   "outputs": [],
   "source": [
    "df[\"Genre\"] = df[\"Genre\"].str.split(\"/\")\n",
    "df = df.explode(\"Genre\") # 리스트형 데이터를 행으로 분리\n",
    "df[\"Genre\"] = df[\"Genre\"].str.strip()"
   ]
  },
  {
   "cell_type": "markdown",
   "id": "97e79fb4-d56c-4c64-9cda-eaf903cc3950",
   "metadata": {},
   "source": [
    "### **Genre컬럼 값을 공백은 \"-\"로 \"-\"연결되는 단어의 첫글자는 대문자로 수정**"
   ]
  },
  {
   "cell_type": "code",
   "execution_count": 3,
   "id": "a6baf35d-434f-4d3d-ba22-95bc6f7134ba",
   "metadata": {},
   "outputs": [],
   "source": [
    "df[\"Genre\"] = df[\"Genre\"].str.replace(\" \", \"-\").str.title()"
   ]
  },
  {
   "cell_type": "markdown",
   "id": "e8d8af61-0b3e-44e0-b9c0-6c0df6eaaf46",
   "metadata": {},
   "source": [
    "### **Genre컬럼 값 중 비슷한 컬럼값 통일되게 수정하고 불필요한 값 제거**"
   ]
  },
  {
   "cell_type": "code",
   "execution_count": 4,
   "id": "143638fc-d046-49c1-b7d5-e370015dbbc4",
   "metadata": {},
   "outputs": [],
   "source": [
    "replacement_dict = {\n",
    "    \"Animated-Musical-Comedy\": \"Animation-Musical-Comedy\",\n",
    "    \"Anime\": \"Animation\",\n",
    "    \"Biopic\": \"Biographical\",\n",
    "    \"Black-Comedy\": \"Comedy\",\n",
    "    \"Christmas-Comedy\": \"Comedy\",    \n",
    "    \"Christian-Musical\": \"Musical\",\n",
    "    \"Christmas-Musical\": \"Musical\",\n",
    "    \"Concert-Film\": \"Concert\",\n",
    "    \"Coming-Of-Age-Comedy-Drama\": \"Teen-Comedy-Drama\",\n",
    "    \"Dance-Comedy\": \"Comedy\",\n",
    "    \"Dark-Comedy\": \"Comedy\",\n",
    "    \"Drama-Comedy\": \"Comedy-Drama\",\n",
    "    \"Family-Film\": \"Family\",\n",
    "    \"Heist-Film\": \"Heist\",\n",
    "    \"Hidden-Camera-Prank-Comedy\": \"Comedy\",\n",
    "    \"Historical-Drama\": \"Historical\",\n",
    "    \"Historical-Epic\": \"Historical\",\n",
    "    \"Horror-Anthology\": \"Horror\",\n",
    "    \"Horror-Comedy\": \"Comedy-Horror\",\n",
    "    \"Horror-Thriller\": \"Crime\",\n",
    "    \"Making-Of\": \"Making\",\n",
    "    \"Mentalism-Special\": \"Documentary\",\n",
    "    \"Mockumentary\": \"Comedy\",\n",
    "    \"Musical-Comedy\": \"Comedy-Musical\",\n",
    "    \"Musicial\": \"Animation\",\n",
    "    \"One-Man-Show\": \"One Man Show\",\n",
    "    \"Political-Thriller\": \"Thriller\",    \n",
    "    \"Psychological-Horror\": \"Horror\",\n",
    "    \"Psychological-Thriller\": \"Thriller\",\n",
    "    \"Psychological-Thriller-Drama\": \"Thriller\",\n",
    "    \"Romance\" : \"Romantic\",\n",
    "    \"Romantic-Comedy-Drama\": \"Romantic-Comedy\",\n",
    "    \"Romance-Drama\": \"Romantic-Drama\",   \n",
    "    \"Romantic-Teenage-Drama\": \"Romantic-Teen-Drama\",\n",
    "    \"Science-Fiction\": \"SF\",\n",
    "    \"Science-Fiction-Adventure\": \"SF\",\n",
    "    \"Science-Fiction-Thriller\": \"SF\",\n",
    "    \"Sports-Drama\": \"Sports\",\n",
    "    \"Sports-Film\": \"Sports\",\n",
    "    \"Spy-Thriller\": \"Thriller\",\n",
    "    \"Stop-Motion\": \"Animation\",\n",
    "    \"Superhero-Comedy\": \"Superhero\",\n",
    "    \"Supernatural-Drama\": \"SF\",\n",
    "    \"Urban-Fantasy\": \"Fantasy\",\n",
    "    \"Variety-Show\": \"Variety Show\",\n",
    "    \"War-Comedy\": \"War\",\n",
    "    \"War-Drama\": \"War\",\n",
    "    \"Zombie\": \"Thriller\",\n",
    "}"
   ]
  },
  {
   "cell_type": "code",
   "execution_count": 5,
   "id": "cc9a8a1d-0e64-41c7-a085-fefd56fbafe0",
   "metadata": {},
   "outputs": [],
   "source": [
    "df[\"Genre\"] = df[\"Genre\"].replace(replacement_dict)\n",
    "df = df[~df[\"Genre\"].isin([\"Anthology\", \"Christmas\", \"Holiday\", \"Satire\"])]"
   ]
  },
  {
   "cell_type": "markdown",
   "id": "768c4edd-0b49-4716-bd7d-83d6ea132010",
   "metadata": {},
   "source": [
    "### **Genre컬럼 값 중 혼합 장르를 분리해 주 장르로 표시**"
   ]
  },
  {
   "cell_type": "code",
   "execution_count": 6,
   "id": "de3bde12-a81f-464d-9e61-dda1a2fcdddb",
   "metadata": {},
   "outputs": [],
   "source": [
    "df[\"Genres\"] = df[\"Genre\"].str.split(\"-\")\n",
    "df = df.explode(\"Genres\") # 리스트형 데이터를 행으로 분리\n",
    "df[\"Genres\"] = df[\"Genres\"].replace(replacement_dict)\n",
    "df.loc[:, \"Genres\"] = df[\"Genres\"].str.strip() # 공백 제거"
   ]
  },
  {
   "cell_type": "code",
   "execution_count": 7,
   "id": "8b5eaeda-f9fc-48de-9148-dcace7068369",
   "metadata": {},
   "outputs": [],
   "source": [
    "df.to_csv(\"./data/netflix_preprocess.csv\", encoding=\"utf-8\", index=False)"
   ]
  }
 ],
 "metadata": {
  "kernelspec": {
   "display_name": "Python 3 (ipykernel)",
   "language": "python",
   "name": "python3"
  },
  "language_info": {
   "codemirror_mode": {
    "name": "ipython",
    "version": 3
   },
   "file_extension": ".py",
   "mimetype": "text/x-python",
   "name": "python",
   "nbconvert_exporter": "python",
   "pygments_lexer": "ipython3",
   "version": "3.10.7"
  }
 },
 "nbformat": 4,
 "nbformat_minor": 5
}
